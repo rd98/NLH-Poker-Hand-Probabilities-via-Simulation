{
 "cells": [
  {
   "cell_type": "markdown",
   "metadata": {},
   "source": [
    "# Calculating probabilities of Texas Holdem Poker Hands by simulation given certain starting hands\n",
    "\n",
    "This project was adapted from a COMP10020 assignment."
    "\n",
    "Firstly lets define some classes we will need to do the simulations later on."
   ]
  },
  {
   "cell_type": "code",
   "execution_count": 1,
   "metadata": {
    "collapsed": true
   },
   "outputs": [],
   "source": [
    "# Define a class to represent each card\n",
    "class Card():\n",
    "    faces = ('2', '3', '4', '5', '6', '7', '8', '9', '10', 'J', 'Q', 'K', 'A')\n",
    "    suits = ('hearts', 'diamonds', 'spades', 'clubs')\n",
    "    suit_symbol_map = {\"hearts\":u\"\\u2665\", \"diamonds\":u\"\\u2666\", \"spades\":u\"\\u2660\", \"clubs\":u\"\\u2663\"} #just icons of hearts clubs etc\n",
    "    \n",
    "    def __init__(self, face, suit):\n",
    "        self.suit = suit.strip()\n",
    "        self.face = face.strip()\n",
    "        self.order = self.getOrder()\n",
    "    \n",
    "    def getOrder(self):\n",
    "        if self.face==\"J\":\n",
    "            order=11\n",
    "        elif self.face==\"Q\":\n",
    "            order=12\n",
    "        elif self.face==\"K\":\n",
    "            order=13\n",
    "        elif self.face==\"A\":\n",
    "            order=14\n",
    "        elif self.face in ['2', '3', '4', '5', '6', '7', '8', '9', '10']:\n",
    "            order=int(self.face)\n",
    "        return order\n",
    "    \n",
    "    def getSuit(self):\n",
    "        if self.suit==\"hearts\":\n",
    "            suit=1\n",
    "        if self.suit==\"diamonds\":\n",
    "            suit=2\n",
    "        if self.suit==\"clubs\":\n",
    "            suit=3\n",
    "        if self.suit==\"spades\":\n",
    "            suit=4\n",
    "        return suit\n",
    "    \n",
    "    def show(self):\n",
    "        print(self.face + Card.suit_symbol_map[self.suit], end=\" \")\n",
    "    \n",
    "    # Override the equality than operator for the card class     \n",
    "    def __eq__(self, other):\n",
    "        # Just return the order values\n",
    "        return (self.face == other.face) and (self.suit == other.suit)\n",
    "    \n",
    "    # Override the less than operator for the card class     \n",
    "    def __lt__(self, other):\n",
    "        # Just return the order values\n",
    "        return self.order < other.order"
   ]
  },
  {
   "cell_type": "code",
   "execution_count": 2,
   "metadata": {
    "collapsed": true
   },
   "outputs": [],
   "source": [
    "# Define a class to represent a group/hand of cards\n",
    "class Hand():\n",
    "    def __init__(self, cards = list()):\n",
    "        self.cards = cards\n",
    "    \n",
    "    def show(self):\n",
    "        for c in self.cards:\n",
    "            c.show()\n",
    "    \n",
    "    def add(self, card):\n",
    "        self.cards.append(card)"
   ]
  },
  {
   "cell_type": "code",
   "execution_count": 3,
   "metadata": {},
   "outputs": [
    {
     "name": "stdout",
     "output_type": "stream",
     "text": [
      "5♥ 6♥  \n",
      "5♥ 6♥ 5♥ "
     ]
    }
   ],
   "source": [
    "x = Card('5','hearts')\n",
    "x.show()\n",
    "y = Card('6', 'hearts')\n",
    "y.show()\n",
    "print(' ')\n",
    "z = Hand([x,y])\n",
    "z.add(x)\n",
    "z.show()"
   ]
  },
  {
   "cell_type": "code",
   "execution_count": 4,
   "metadata": {
    "collapsed": true
   },
   "outputs": [],
   "source": [
    "# The shoe class represents a deck of group of decks\n",
    "# We wish to be able to shuffle, deal from the deck and remove certain cards\n",
    "import random\n",
    "class Shoe():\n",
    "    def __init__(self, numdecks):\n",
    "        self.numdecks = int(numdecks)\n",
    "        self.allsuits = ('hearts', 'diamonds', 'spades', 'clubs')\n",
    "        self.allfaces = ('2', '3', '4', '5', '6', '7', '8', '9', '10', 'J', 'Q', 'K', 'A')\n",
    "        self.counter = 0\n",
    "        self.deck = []\n",
    "        for i in range(numdecks):\n",
    "            for i in self.allfaces:\n",
    "                for j in self.allsuits:\n",
    "                    self.deck.append(Card(i,j))\n",
    "    \n",
    "    def showShoe(self):\n",
    "        for i in self.deck:\n",
    "            i.show()\n",
    "        \n",
    "    def numcards(self):\n",
    "        return len(self.deck)\n",
    "    \n",
    "    def shuffle(self):\n",
    "        random.shuffle(self.deck)\n",
    "        \n",
    "    def deal(self, numofcards):\n",
    "        dealt_cards = []\n",
    "        for i in range(numofcards):\n",
    "            #dealt_cards should have a self before it??\n",
    "            dealt_cards.append(self.deck.pop())\n",
    "        return dealt_cards\n",
    "    \n",
    "    def removeCards(self, cardstoRemove):\n",
    "        for card in cardstoRemove:\n",
    "            index = 0\n",
    "            found = False\n",
    "            for card2 in self.deck:\n",
    "                if card == card2:\n",
    "                    found = True\n",
    "                    break\n",
    "                index += 1\n",
    "            if found:\n",
    "                self.deck.pop(index)\n",
    "            "
   ]
  },
  {
   "cell_type": "code",
   "execution_count": 5,
   "metadata": {},
   "outputs": [
    {
     "name": "stdout",
     "output_type": "stream",
     "text": [
      "2♥ 2♦ 2♠ 2♣ 3♥ 3♦ 3♠ 3♣ 4♥ 4♦ 4♠ 4♣ 5♦ 5♠ 5♣ 6♦ 6♠ 6♣ 7♥ 7♦ 7♠ 7♣ 8♥ 8♦ 8♠ 8♣ 9♥ 9♦ 9♠ 9♣ 10♥ 10♦ 10♠ 10♣ J♥ J♦ J♠ J♣ Q♥ Q♦ Q♠ Q♣ K♥ K♦ K♠ K♣ A♥ A♦ A♠ A♣ "
     ]
    },
    {
     "data": {
      "text/plain": [
       "50"
      ]
     },
     "execution_count": 5,
     "metadata": {},
     "output_type": "execute_result"
    }
   ],
   "source": [
    "deck = Shoe(1)\n",
    "x = Card('5','hearts')\n",
    "y = Card('6', 'hearts')\n",
    "plyhnd = [x,y]\n",
    "deck.removeCards(plyhnd)\n",
    "deck.showShoe()\n",
    "deck.numcards()\n"
   ]
  },
  {
   "cell_type": "code",
   "execution_count": 6,
   "metadata": {},
   "outputs": [
    {
     "name": "stdout",
     "output_type": "stream",
     "text": [
      "10♦ 7♠ 7♦ "
     ]
    }
   ],
   "source": [
    "deck = Shoe(1)\n",
    "deck.shuffle()\n",
    "x = deck.deal(3)\n",
    "y = Hand(x)\n",
    "y.show()"
   ]
  },
  {
   "cell_type": "code",
   "execution_count": 7,
   "metadata": {
    "collapsed": true
   },
   "outputs": [],
   "source": [
    "# We need to be able to check for certain types of hands and rank them according to Poker Rules\n",
    "class PokerHand(Hand):\n",
    "    \n",
    "    def __init__(self, cards = list()):\n",
    "        Hand.__init__(self, cards)\n",
    "        self.handName = 'High Card'\n",
    "        self.handRank = 0\n",
    "        \n",
    "        # Create Dictionary so that we can count the number of certain cards in the hand and thus check for pairs etc\n",
    "        self.facedict={}\n",
    "        for i in range(2,15):\n",
    "            self.facedict[i]=0\n",
    "        for card in self.cards:\n",
    "            self.facedict[card.getOrder()]+=1\n",
    "        \n",
    "        # Create Dictionary so that we can count the number of certain suit in the hand and thus check for flush etc\n",
    "        self.suitdict={}\n",
    "        for i in range(1,5):\n",
    "            self.suitdict[i]=0\n",
    "        for card in self.cards:\n",
    "            self.suitdict[card.getSuit()]+=1\n",
    "        \n",
    "    def show(self):\n",
    "        for card in self.cards:\n",
    "            card.show()\n",
    "            \n",
    "    \"\"\"\n",
    "    Hand Order in Poker:\n",
    "    1. Pair\n",
    "    2. Two Pair\n",
    "    3. Three of a Kind\n",
    "    4. Straight\n",
    "    5. Flush\n",
    "    6. Full House\n",
    "    7. Four of a Kind\n",
    "    8. Straight Flush\n",
    "    9. Royal Flush\n",
    "    \n",
    "    Note : If these are checked in reverse order with elif statements then the checkPaid function returning true\n",
    "    for a two pair will not make a diffence \n",
    "    \"\"\"\n",
    "    \n",
    "    def checkPair(self):\n",
    "        paircount = 0\n",
    "        pairlist = []\n",
    "        for i in self.facedict:\n",
    "            if self.facedict[i]==2:\n",
    "                paircount+=1\n",
    "                pairlist.append(i)\n",
    "        if paircount==1:\n",
    "            return True,pairlist\n",
    "        else:\n",
    "            return False, []\n",
    "    def checkTwoPair(self):\n",
    "        paircount = 0\n",
    "        pairlist=[]\n",
    "        for i in self.facedict:\n",
    "            if self.facedict[i]==2:\n",
    "                paircount+=1\n",
    "                pairlist.append(i)\n",
    "        if paircount == 2:\n",
    "            return True, pairlist\n",
    "        else:\n",
    "            return False, []\n",
    "        \n",
    "    def checkThreeofaKind(self):\n",
    "        TOKvalue = []\n",
    "        TOKcount = 0\n",
    "        for i in self.facedict:\n",
    "            if self.facedict[i]==3:\n",
    "                TOKvalue.append(i)\n",
    "                TOKcount+=1\n",
    "        if TOKcount==1:\n",
    "            return True,TOKvalue\n",
    "        else:\n",
    "            return False, []\n",
    "            \n",
    "    def checkStraight(self):\n",
    "        \"\"\"\n",
    "        return a tuple with first entry True/False\n",
    "        second entry is the high card of the straight in list form to keep consistent\n",
    "        \"\"\"\n",
    "        card_value_list = []\n",
    "        unique_card_count = 0\n",
    "        for i in self.facedict:\n",
    "            if self.facedict[i]==1:\n",
    "                card_value_list.append(i)\n",
    "                unique_card_count += 1\n",
    "        if unique_card_count != 5:\n",
    "            return False, []\n",
    "        # check if the five cards are sequential\n",
    "        count = 0\n",
    "        for i in range(len(card_value_list)-1):\n",
    "            if card_value_list[i]+1 == card_value_list[i+1]:\n",
    "                count += 1\n",
    "        if count == 4:\n",
    "            return True, [card_value_list[4]]\n",
    "        else:\n",
    "            return False, []\n",
    "                \n",
    "            \n",
    "    def checkFlush(self):\n",
    "        \"\"\"\n",
    "        Returns True and a list containing the suit of the flush\n",
    "        \"\"\"\n",
    "        for i in self.suitdict:\n",
    "            if self.suitdict[i]==5:\n",
    "                return True,[i]\n",
    "            else:\n",
    "                return False, []\n",
    "    \n",
    "    def checkFullHouse(self):\n",
    "        \"\"\"\n",
    "        Returns True and a list with first entry the three of a kind and second entry the pair\n",
    "        \"\"\"\n",
    "        return_list = []\n",
    "        for i in self.facedict:\n",
    "            if self.facedict[i]==3:\n",
    "                return_list.append(i)\n",
    "        if len(return_list)==0:\n",
    "            return False, []\n",
    "        for i in self.facedict:\n",
    "            if self.facedict[i]==2:\n",
    "                return_list.append(i)\n",
    "        if len(return_list)==2:\n",
    "            return True, return_list\n",
    "        else:\n",
    "            return False, []\n",
    "    \n",
    "    def checkFourofaKind(self):\n",
    "        FOKvalue = []\n",
    "        FOKcount=0\n",
    "        for i in self.facedict:\n",
    "            if self.facedict[i]==4:\n",
    "                FOKcount+=1\n",
    "                FOKvalue.append(i)\n",
    "        if FOKcount==1:\n",
    "            return True,FOKvalue\n",
    "        else:\n",
    "            return False, []\n",
    "    \n",
    "    def checkStraightFlush(self):\n",
    "        straightflushcheck = {}\n",
    "        straightflushcheck['Straight']=False\n",
    "        straightflushcheck['Flush']=False\n",
    "        straightflushcheck['Value']=False\n",
    "        \"\"\"\n",
    "        First Check for Straight\n",
    "        \"\"\"\n",
    "        card_value_list = []\n",
    "        unique_card_count = 0\n",
    "        for i in self.facedict:\n",
    "            if self.facedict[i]==1:\n",
    "                card_value_list.append(i)\n",
    "                unique_card_count += 1\n",
    "        if unique_card_count != 5:\n",
    "            return False, []\n",
    "        # check if the five cards are sequential\n",
    "        count = 0\n",
    "        for i in range(len(card_value_list)-1):\n",
    "            if card_value_list[i]+1 == card_value_list[i+1]:\n",
    "                count += 1\n",
    "        if count == 4:\n",
    "            straightflushcheck['Straight']=True\n",
    "\n",
    "        \"\"\"\n",
    "        Returns True and a list containing the suit of the flush\n",
    "        \"\"\"\n",
    "        for i in self.suitdict:\n",
    "            if self.suitdict[i]==5:\n",
    "                straightflushcheck['Flush']=True\n",
    "        \n",
    "        if straightflushcheck['Straight']==True and straightflushcheck['Flush']==True:\n",
    "            return True, card_value_list[4]\n",
    "        else:\n",
    "            return False, []\n",
    "        \n",
    "    def checkRoyalFlush(self):\n",
    "        straightflushcheck = {}\n",
    "        straightflushcheck['Straight']=False\n",
    "        straightflushcheck['Flush']=False\n",
    "        straightflushcheck['Value']=False\n",
    "        \"\"\"\n",
    "        First Check for Straight\n",
    "        \"\"\"\n",
    "        card_value_list = []\n",
    "        unique_card_count = 0\n",
    "        for i in self.facedict:\n",
    "            if self.facedict[i]==1:\n",
    "                card_value_list.append(i)\n",
    "                unique_card_count+=1\n",
    "        if unique_card_count != 5:\n",
    "            return False, []\n",
    "        # check if the five cards are sequential\n",
    "        count = 0\n",
    "        for i in range(len(card_value_list)-1):\n",
    "            if card_value_list[i]+1 == card_value_list[i+1]:\n",
    "                count += 1\n",
    "        if count == 4:\n",
    "            straightflushcheck['Straight']=True\n",
    "            \n",
    "        \"\"\"\n",
    "        Check if Broadway Straight\n",
    "        \"\"\"\n",
    "        if card_value_list[4]!=14:\n",
    "            return False, []\n",
    "\n",
    "        \"\"\"\n",
    "        Returns True and a list containing the suit of the flush\n",
    "        \"\"\"\n",
    "        for i in self.suitdict:\n",
    "            if self.suitdict[i]==5:\n",
    "                straightflushcheck['Flush']=True\n",
    "        \n",
    "        if straightflushcheck['Straight']==True and straightflushcheck['Flush']==True:\n",
    "            return True, card_value_list[4]\n",
    "        else:\n",
    "            return False, []\n",
    "    \n",
    "    \n",
    "    def checkHand(self):\n",
    "            \n",
    "            # Check the different kinds of hand in order\n",
    "            if self.checkRoyalFlush()[0]:\n",
    "                self.handRank = 9\n",
    "                self.hand = \"Royal Flush\"\n",
    "            elif self.checkStraightFlush()[0]:\n",
    "                self.handRank = 8\n",
    "                self.hand = \"Straight Flush\"\n",
    "            elif self.checkFourofaKind()[0]:\n",
    "                self.handRank = 7\n",
    "                self.hand = \"Four of a Kind\"\n",
    "            elif self.checkFullHouse()[0]:\n",
    "                self.handRank = 6\n",
    "                self.hand = \"Full House\"\n",
    "            elif self.checkFlush()[0]:\n",
    "                self.handRank = 5\n",
    "                self.hand = \"Flush\"\n",
    "            elif self.checkStraight()[0]:\n",
    "                self.handRank = 4\n",
    "                self.hand = \"Straight\"\n",
    "            elif self.checkThreeofaKind()[0]:\n",
    "                self.handRank = 3\n",
    "                self.hand = \"Three of a Kind\"            \n",
    "            elif self.checkTwoPair()[0]:\n",
    "                self.handRank = 2\n",
    "                self.hand = \"Two Pair\"\n",
    "            elif self.checkPair()[0]:\n",
    "                self.handRank = 1\n",
    "                self.hand = \"Pair\"   \n",
    "            else:\n",
    "                self.handRank = 0\n",
    "                self.hand = \"High Card\"\n",
    "                \n",
    "            return self.hand,self.handRank\n",
    "        "
   ]
  },
  {
   "cell_type": "code",
   "execution_count": 8,
   "metadata": {},
   "outputs": [
    {
     "name": "stdout",
     "output_type": "stream",
     "text": [
      "10♥ J♥ 9♥ 9♥ 9♥ "
     ]
    },
    {
     "data": {
      "text/plain": [
       "('Flush', 5)"
      ]
     },
     "execution_count": 8,
     "metadata": {},
     "output_type": "execute_result"
    }
   ],
   "source": [
    "# Test 1\n",
    "a = Card('10','hearts')\n",
    "b = Card('J', 'hearts')\n",
    "c = Card('Q', 'hearts')\n",
    "d = Card('K', 'hearts')\n",
    "e = Card('A', 'hearts')\n",
    "f = Card('9', 'hearts')\n",
    "g = Card('9', 'hearts')\n",
    "h = Card('9', 'hearts')\n",
    "\n",
    "\n",
    "z = PokerHand([a,b,f,g,h])\n",
    "z.show()\n",
    "z.checkHand()"
   ]
  },
  {
   "cell_type": "code",
   "execution_count": 9,
   "metadata": {},
   "outputs": [
    {
     "name": "stdout",
     "output_type": "stream",
     "text": [
      "5♥ K♥ 5♠ J♥ K♥ "
     ]
    },
    {
     "data": {
      "text/plain": [
       "('Two Pair', 2)"
      ]
     },
     "execution_count": 9,
     "metadata": {},
     "output_type": "execute_result"
    }
   ],
   "source": [
    "# Test 2\n",
    "a = Card('5','hearts')\n",
    "b = Card('K', 'hearts')\n",
    "c = Card('5', 'spades')\n",
    "d = Card('J', 'hearts')\n",
    "e = Card('K', 'hearts')\n",
    "\n",
    "z = PokerHand([a,b,c,d,e])\n",
    "z.show()\n",
    "z.checkHand()"
   ]
  },
  {
   "cell_type": "code",
   "execution_count": 10,
   "metadata": {
    "collapsed": true
   },
   "outputs": [],
   "source": [
    "\"\"\"\n",
    "We need to define a function which will output a list of all possible combinations of n many elements\n",
    "of a given list. This will be used later to check for the best hand we can make from 5 cards given 7. \n",
    "\"\"\"\n",
    "\n",
    "def combinations(n, list, combos=[]):\n",
    "    # initialize combos during the first pass through\n",
    "    if combos is None:\n",
    "        combos = []\n",
    "\n",
    "    if len(list) == n:\n",
    "        # when list has been dwindeled down to size n\n",
    "        # check to see if the combo has already been found\n",
    "        # if not, add it to our list\n",
    "        if combos.count(list) == 0:\n",
    "            combos.append(list)\n",
    "            combos.sort()\n",
    "        return combos\n",
    "    else:\n",
    "        # for each item in our list, make a recursive\n",
    "        # call to find all possible combos of it and\n",
    "        # the remaining items\n",
    "        for i in range(len(list)):\n",
    "            refined_list = list[:i] + list[i+1:]\n",
    "            combos = combinations(n, refined_list, combos)\n",
    "        return combos"
   ]
  },
  {
   "cell_type": "code",
   "execution_count": 11,
   "metadata": {},
   "outputs": [
    {
     "name": "stdout",
     "output_type": "stream",
     "text": [
      "{'High Card': 0, 'Pair': 1, 'Two Pair': 2, 'Three of a Kind': 3, 'Straight': 4, 'Flush': 5, 'Full House': 6, 'Four of a Kind': 7, 'Straight Flush': 8, 'Royal Flush': 9}\n"
     ]
    }
   ],
   "source": [
    "\"\"\"\n",
    "converstion Dictionary\n",
    "\"\"\"\n",
    "convdict = {}\n",
    "count = 0\n",
    "for i in ['High Card', 'Pair', 'Two Pair', 'Three of a Kind', 'Straight', 'Flush', 'Full House', 'Four of a Kind', 'Straight Flush', 'Royal Flush']:\n",
    "        convdict[i]=count\n",
    "        count += 1\n",
    "print(convdict)\n",
    "\n"
   ]
  },
  {
   "cell_type": "markdown",
   "metadata": {},
   "source": [
    "# Now we have the workings we can easily obtain some hand probabilities via simulation"
   ]
  },
  {
   "cell_type": "markdown",
   "metadata": {},
   "source": [
    "Consider you are dealt a hand and wish to know the probabilities you will make a certain hand on the flop or by the river."
   ]
  },
  {
   "cell_type": "markdown",
   "metadata": {},
   "source": [
    "## Input Hand Below\n",
    "Example :\n",
    "\n",
    "    Face : 5\n",
    "    Suit : spades\n",
    "    \n",
    "Or\n",
    "\n",
    "    Face : K\n",
    "    Suit : hearts"
   ]
  },
  {
   "cell_type": "code",
   "execution_count": 12,
   "metadata": {},
   "outputs": [
    {
     "name": "stdout",
     "output_type": "stream",
     "text": [
      "Face of Card 1 : 10\n",
      "Suit of Card 1 : hearts\n",
      "Face of Card 2 : 10\n",
      "Suit of Card 2 : spades\n"
     ]
    }
   ],
   "source": [
    "card1_face = input(\"Face of Card 1 : \")\n",
    "card1_suit = input(\"Suit of Card 1 : \")\n",
    "\n",
    "card2_face = input(\"Face of Card 2 : \")\n",
    "card2_suit = input(\"Suit of Card 2 : \")"
   ]
  },
  {
   "cell_type": "markdown",
   "metadata": {},
   "source": [
    "## Flop Stats"
   ]
  },
  {
   "cell_type": "code",
   "execution_count": 13,
   "metadata": {},
   "outputs": [
    {
     "name": "stdout",
     "output_type": "stream",
     "text": [
      "10♥ 10♠  \n",
      "The approximate probabilities of making the following hands by the flop given the starting hand above are:\n",
      "     High Card     0.0 %\n",
      "     Pair     71.5 %\n",
      "     Two Pair     16.22 %\n",
      "     Three of a Kind     10.8 %\n",
      "     Straight     0.0 %\n",
      "     Flush     0.0 %\n",
      "     Full House     1.19 %\n",
      "     Four of a Kind     0.29 %\n",
      "     Straight Flush     0.0 %\n",
      "     Royal Flush     0.0 %\n"
     ]
    }
   ],
   "source": [
    "n=10000\n",
    "handdict = {}\n",
    "for i in ['High Card', 'Pair', 'Two Pair', 'Three of a Kind', 'Straight', 'Flush', 'Full House', 'Four of a Kind', 'Straight Flush', 'Royal Flush']:\n",
    "    handdict[i]=0\n",
    "for i in range(n):\n",
    "    PlayerHand = [Card(card1_face,card1_suit), Card(card2_face,card2_suit)]\n",
    "    deck = Shoe(1)\n",
    "    deck.shuffle()\n",
    "    deck.removeCards(PlayerHand)\n",
    "    flop = deck.deal(3)\n",
    "\n",
    "    total = flop\n",
    "    for i in PlayerHand:\n",
    "        total.append(i)\n",
    "\n",
    "    Total = PokerHand(total)\n",
    "\n",
    "    handdict[Total.checkHand()[0]]+=1\n",
    "    \n",
    "PlayerHand = Hand([Card(card1_face,card1_suit), Card(card2_face,card2_suit)])\n",
    "PlayerHand.show()\n",
    "print(' ')\n",
    "print('The approximate probabilities of making the following hands by the flop given the starting hand above are:')\n",
    "\n",
    "for i,j in handdict.items():\n",
    "    print('    ', i,'   ',round(j/n*100,3),\"%\")"
   ]
  },
  {
   "cell_type": "markdown",
   "metadata": {},
   "source": [
    "### Total Stats"
   ]
  },
  {
   "cell_type": "code",
   "execution_count": 14,
   "metadata": {},
   "outputs": [
    {
     "name": "stdout",
     "output_type": "stream",
     "text": [
      "10♥ 10♠  \n",
      "The approximate probabilities of making the following hands by the river given the starting hand above are:\n",
      "     High Card     0.0 %\n",
      "     Pair     35.9 %\n",
      "     Two Pair     38.95 %\n",
      "     Three of a Kind     12.37 %\n",
      "     Straight     2.39 %\n",
      "     Flush     1.0 %\n",
      "     Full House     8.46 %\n",
      "     Four of a Kind     0.9 %\n",
      "     Straight Flush     0.01 %\n",
      "     Royal Flush     0.02 %\n"
     ]
    }
   ],
   "source": [
    "n=10000\n",
    "handdict = {}\n",
    "for i in ['High Card', 'Pair', 'Two Pair', 'Three of a Kind', 'Straight', 'Flush', 'Full House', 'Four of a Kind', 'Straight Flush', 'Royal Flush']:\n",
    "    handdict[i]=0\n",
    "for i in range(n):\n",
    "    PlayerHand = [Card(card1_face,card1_suit), Card(card2_face,card2_suit)]\n",
    "    deck = Shoe(1)\n",
    "    deck.shuffle()\n",
    "    deck.removeCards(PlayerHand)\n",
    "    \n",
    "    flop = deck.deal(3)\n",
    "    turn = deck.deal(1)\n",
    "    river = deck.deal(1)\n",
    "    total = flop\n",
    "    for i in turn:\n",
    "        total.append(i)\n",
    "    for i in river:\n",
    "        total.append(i)\n",
    "    for i in PlayerHand:\n",
    "        total.append(i)\n",
    "\n",
    "    combos = combinations(5,total,[])\n",
    "    \n",
    "    temphanddict = {}\n",
    "    for i in ['High Card', 'Pair', 'Two Pair', 'Three of a Kind', 'Straight', 'Flush', 'Full House', 'Four of a Kind', 'Straight Flush', 'Royal Flush']:\n",
    "        temphanddict[i]=0\n",
    "        \n",
    "    for i in combos:\n",
    "        i = PokerHand(i)\n",
    "        temphanddict[i.checkHand()[0]]+=1\n",
    "    temp_list = []\n",
    "    for i in temphanddict:\n",
    "        if temphanddict[i]>0:\n",
    "            temp_list.append(i)\n",
    "    for i in range(len(temp_list)):\n",
    "        temp_list[i]=convdict[temp_list[i]]\n",
    "    for i in convdict:\n",
    "        if convdict[i]==max(temp_list):\n",
    "            maximum = i\n",
    "    handdict[maximum]+=1\n",
    "        \n",
    "    \n",
    "PlayerHand = Hand([Card(card1_face,card1_suit), Card(card2_face,card2_suit)])\n",
    "PlayerHand.show()\n",
    "print(' ')\n",
    "print('The approximate probabilities of making the following hands by the river given the starting hand above are:')\n",
    "\n",
    "for i,j in handdict.items():\n",
    "    print('    ', i,'   ',round(j/n*100,3),\"%\")"
   ]
  },
  {
   "cell_type": "code",
   "execution_count": null,
   "metadata": {
    "collapsed": true
   },
   "outputs": [],
   "source": []
  }
 ],
 "metadata": {
  "kernelspec": {
   "display_name": "Python 3",
   "language": "python",
   "name": "python3"
  },
  "language_info": {
   "codemirror_mode": {
    "name": "ipython",
    "version": 3
   },
   "file_extension": ".py",
   "mimetype": "text/x-python",
   "name": "python",
   "nbconvert_exporter": "python",
   "pygments_lexer": "ipython3",
   "version": "3.6.3"
  }
 },
 "nbformat": 4,
 "nbformat_minor": 2
}
